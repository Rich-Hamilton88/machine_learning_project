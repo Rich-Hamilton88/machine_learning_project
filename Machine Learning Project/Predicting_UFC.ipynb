{
 "cells": [
  {
   "cell_type": "code",
   "execution_count": 2,
   "metadata": {},
   "outputs": [],
   "source": [
    "import pandas as pd\n",
    "import numpy as np\n",
    "import matplotlib.pyplot as plt\n",
    "\n",
    "from sklearn.ensemble import RandomForestClassifier\n",
    "from sklearn.model_selection import train_test_split\n",
    "from sklearn.preprocessing import StandardScaler\n",
    "from sklearn.metrics import accuracy_score, classification_report,confusion_matrix\n",
    "from sklearn.utils.multiclass import unique_labels\n",
    "from sklearn.model_selection import GridSearchCV, RandomizedSearchCV"
   ]
  },
  {
   "cell_type": "markdown",
   "metadata": {},
   "source": [
    "# Read the CSV and Perform Basic Data Cleaning"
   ]
  },
  {
   "cell_type": "code",
   "execution_count": 56,
   "metadata": {},
   "outputs": [
    {
     "data": {
      "text/html": [
       "<div>\n",
       "<style scoped>\n",
       "    .dataframe tbody tr th:only-of-type {\n",
       "        vertical-align: middle;\n",
       "    }\n",
       "\n",
       "    .dataframe tbody tr th {\n",
       "        vertical-align: top;\n",
       "    }\n",
       "\n",
       "    .dataframe thead th {\n",
       "        text-align: right;\n",
       "    }\n",
       "</style>\n",
       "<table border=\"1\" class=\"dataframe\">\n",
       "  <thead>\n",
       "    <tr style=\"text-align: right;\">\n",
       "      <th></th>\n",
       "      <th>winner</th>\n",
       "      <th>pass_stat_f1</th>\n",
       "      <th>pass_stat_f2</th>\n",
       "      <th>str_stat_f1</th>\n",
       "      <th>str_stat_f2</th>\n",
       "      <th>sub_stat_f1</th>\n",
       "      <th>sub_stat_f2</th>\n",
       "      <th>td_stat_f1</th>\n",
       "      <th>td_stat_f2</th>\n",
       "    </tr>\n",
       "  </thead>\n",
       "  <tbody>\n",
       "    <tr>\n",
       "      <td>0</td>\n",
       "      <td>TJ Dillashaw</td>\n",
       "      <td>0</td>\n",
       "      <td>0</td>\n",
       "      <td>45</td>\n",
       "      <td>17</td>\n",
       "      <td>0</td>\n",
       "      <td>0</td>\n",
       "      <td>0</td>\n",
       "      <td>0</td>\n",
       "    </tr>\n",
       "    <tr>\n",
       "      <td>1</td>\n",
       "      <td>Henry Cejudo</td>\n",
       "      <td>2</td>\n",
       "      <td>0</td>\n",
       "      <td>51</td>\n",
       "      <td>81</td>\n",
       "      <td>0</td>\n",
       "      <td>0</td>\n",
       "      <td>3</td>\n",
       "      <td>1</td>\n",
       "    </tr>\n",
       "    <tr>\n",
       "      <td>2</td>\n",
       "      <td>Renato Moicano</td>\n",
       "      <td>4</td>\n",
       "      <td>0</td>\n",
       "      <td>17</td>\n",
       "      <td>20</td>\n",
       "      <td>1</td>\n",
       "      <td>0</td>\n",
       "      <td>1</td>\n",
       "      <td>0</td>\n",
       "    </tr>\n",
       "    <tr>\n",
       "      <td>3</td>\n",
       "      <td>JJ Aldrich</td>\n",
       "      <td>1</td>\n",
       "      <td>1</td>\n",
       "      <td>40</td>\n",
       "      <td>46</td>\n",
       "      <td>0</td>\n",
       "      <td>0</td>\n",
       "      <td>0</td>\n",
       "      <td>1</td>\n",
       "    </tr>\n",
       "    <tr>\n",
       "      <td>4</td>\n",
       "      <td>Thiago Santos</td>\n",
       "      <td>8</td>\n",
       "      <td>2</td>\n",
       "      <td>69</td>\n",
       "      <td>31</td>\n",
       "      <td>1</td>\n",
       "      <td>1</td>\n",
       "      <td>3</td>\n",
       "      <td>0</td>\n",
       "    </tr>\n",
       "  </tbody>\n",
       "</table>\n",
       "</div>"
      ],
      "text/plain": [
       "           winner  pass_stat_f1  pass_stat_f2  str_stat_f1  str_stat_f2  \\\n",
       "0    TJ Dillashaw             0             0           45           17   \n",
       "1    Henry Cejudo             2             0           51           81   \n",
       "2  Renato Moicano             4             0           17           20   \n",
       "3      JJ Aldrich             1             1           40           46   \n",
       "4   Thiago Santos             8             2           69           31   \n",
       "\n",
       "   sub_stat_f1  sub_stat_f2  td_stat_f1  td_stat_f2  \n",
       "0            0            0           0           0  \n",
       "1            0            0           3           1  \n",
       "2            1            0           1           0  \n",
       "3            0            0           0           1  \n",
       "4            1            1           3           0  "
      ]
     },
     "execution_count": 56,
     "metadata": {},
     "output_type": "execute_result"
    }
   ],
   "source": [
    "df = pd.read_csv(\"data\\cleaned_bouts_new.csv\")\n",
    "df.head()"
   ]
  },
  {
   "cell_type": "code",
   "execution_count": 57,
   "metadata": {},
   "outputs": [],
   "source": [
    "df_num = df.select_dtypes(include=[np.float, np.int])"
   ]
  },
  {
   "cell_type": "code",
   "execution_count": 58,
   "metadata": {},
   "outputs": [
    {
     "data": {
      "text/html": [
       "<div>\n",
       "<style scoped>\n",
       "    .dataframe tbody tr th:only-of-type {\n",
       "        vertical-align: middle;\n",
       "    }\n",
       "\n",
       "    .dataframe tbody tr th {\n",
       "        vertical-align: top;\n",
       "    }\n",
       "\n",
       "    .dataframe thead th {\n",
       "        text-align: right;\n",
       "    }\n",
       "</style>\n",
       "<table border=\"1\" class=\"dataframe\">\n",
       "  <thead>\n",
       "    <tr style=\"text-align: right;\">\n",
       "      <th></th>\n",
       "      <th>winner</th>\n",
       "    </tr>\n",
       "  </thead>\n",
       "  <tbody>\n",
       "    <tr>\n",
       "      <td>count</td>\n",
       "      <td>5246</td>\n",
       "    </tr>\n",
       "    <tr>\n",
       "      <td>unique</td>\n",
       "      <td>1328</td>\n",
       "    </tr>\n",
       "    <tr>\n",
       "      <td>top</td>\n",
       "      <td>Donald Cerrone</td>\n",
       "    </tr>\n",
       "    <tr>\n",
       "      <td>freq</td>\n",
       "      <td>23</td>\n",
       "    </tr>\n",
       "  </tbody>\n",
       "</table>\n",
       "</div>"
      ],
      "text/plain": [
       "                winner\n",
       "count             5246\n",
       "unique            1328\n",
       "top     Donald Cerrone\n",
       "freq                23"
      ]
     },
     "execution_count": 58,
     "metadata": {},
     "output_type": "execute_result"
    }
   ],
   "source": [
    "df.describe(include=['O'])"
   ]
  },
  {
   "cell_type": "code",
   "execution_count": 59,
   "metadata": {},
   "outputs": [],
   "source": [
    "objecttypes = list(df.select_dtypes(include=['O']).columns)\n",
    "for col in objecttypes:\n",
    "    df[col] = df[col].astype('category')"
   ]
  },
  {
   "cell_type": "code",
   "execution_count": 60,
   "metadata": {},
   "outputs": [
    {
     "name": "stdout",
     "output_type": "stream",
     "text": [
      "<class 'pandas.core.frame.DataFrame'>\n",
      "RangeIndex: 5246 entries, 0 to 5245\n",
      "Data columns (total 9 columns):\n",
      "winner          5246 non-null int16\n",
      "pass_stat_f1    5246 non-null int64\n",
      "pass_stat_f2    5246 non-null int64\n",
      "str_stat_f1     5246 non-null int64\n",
      "str_stat_f2     5246 non-null int64\n",
      "sub_stat_f1     5246 non-null int64\n",
      "sub_stat_f2     5246 non-null int64\n",
      "td_stat_f1      5246 non-null int64\n",
      "td_stat_f2      5246 non-null int64\n",
      "dtypes: int16(1), int64(8)\n",
      "memory usage: 338.2 KB\n"
     ]
    },
    {
     "data": {
      "text/html": [
       "<div>\n",
       "<style scoped>\n",
       "    .dataframe tbody tr th:only-of-type {\n",
       "        vertical-align: middle;\n",
       "    }\n",
       "\n",
       "    .dataframe tbody tr th {\n",
       "        vertical-align: top;\n",
       "    }\n",
       "\n",
       "    .dataframe thead th {\n",
       "        text-align: right;\n",
       "    }\n",
       "</style>\n",
       "<table border=\"1\" class=\"dataframe\">\n",
       "  <thead>\n",
       "    <tr style=\"text-align: right;\">\n",
       "      <th></th>\n",
       "      <th>winner</th>\n",
       "      <th>pass_stat_f1</th>\n",
       "      <th>pass_stat_f2</th>\n",
       "      <th>str_stat_f1</th>\n",
       "      <th>str_stat_f2</th>\n",
       "      <th>sub_stat_f1</th>\n",
       "      <th>sub_stat_f2</th>\n",
       "      <th>td_stat_f1</th>\n",
       "      <th>td_stat_f2</th>\n",
       "    </tr>\n",
       "  </thead>\n",
       "  <tbody>\n",
       "    <tr>\n",
       "      <td>5241</td>\n",
       "      <td>299</td>\n",
       "      <td>0</td>\n",
       "      <td>0</td>\n",
       "      <td>24</td>\n",
       "      <td>38</td>\n",
       "      <td>0</td>\n",
       "      <td>0</td>\n",
       "      <td>0</td>\n",
       "      <td>0</td>\n",
       "    </tr>\n",
       "    <tr>\n",
       "      <td>5242</td>\n",
       "      <td>338</td>\n",
       "      <td>5</td>\n",
       "      <td>0</td>\n",
       "      <td>46</td>\n",
       "      <td>18</td>\n",
       "      <td>0</td>\n",
       "      <td>1</td>\n",
       "      <td>3</td>\n",
       "      <td>0</td>\n",
       "    </tr>\n",
       "    <tr>\n",
       "      <td>5243</td>\n",
       "      <td>581</td>\n",
       "      <td>2</td>\n",
       "      <td>0</td>\n",
       "      <td>15</td>\n",
       "      <td>5</td>\n",
       "      <td>1</td>\n",
       "      <td>0</td>\n",
       "      <td>1</td>\n",
       "      <td>0</td>\n",
       "    </tr>\n",
       "    <tr>\n",
       "      <td>5244</td>\n",
       "      <td>500</td>\n",
       "      <td>0</td>\n",
       "      <td>0</td>\n",
       "      <td>119</td>\n",
       "      <td>105</td>\n",
       "      <td>0</td>\n",
       "      <td>0</td>\n",
       "      <td>0</td>\n",
       "      <td>0</td>\n",
       "    </tr>\n",
       "    <tr>\n",
       "      <td>5245</td>\n",
       "      <td>542</td>\n",
       "      <td>1</td>\n",
       "      <td>0</td>\n",
       "      <td>24</td>\n",
       "      <td>16</td>\n",
       "      <td>1</td>\n",
       "      <td>0</td>\n",
       "      <td>2</td>\n",
       "      <td>1</td>\n",
       "    </tr>\n",
       "  </tbody>\n",
       "</table>\n",
       "</div>"
      ],
      "text/plain": [
       "      winner  pass_stat_f1  pass_stat_f2  str_stat_f1  str_stat_f2  \\\n",
       "5241     299             0             0           24           38   \n",
       "5242     338             5             0           46           18   \n",
       "5243     581             2             0           15            5   \n",
       "5244     500             0             0          119          105   \n",
       "5245     542             1             0           24           16   \n",
       "\n",
       "      sub_stat_f1  sub_stat_f2  td_stat_f1  td_stat_f2  \n",
       "5241            0            0           0           0  \n",
       "5242            0            1           3           0  \n",
       "5243            1            0           1           0  \n",
       "5244            0            0           0           0  \n",
       "5245            1            0           2           1  "
      ]
     },
     "execution_count": 60,
     "metadata": {},
     "output_type": "execute_result"
    }
   ],
   "source": [
    "cat_columns = df.select_dtypes(['category']).columns\n",
    "df[cat_columns] = df[cat_columns].apply(lambda x: x.cat.codes)\n",
    "df.info()\n",
    "df.tail()"
   ]
  },
  {
   "cell_type": "markdown",
   "metadata": {},
   "source": [
    "# Heat Map"
   ]
  },
  {
   "cell_type": "code",
   "execution_count": 61,
   "metadata": {},
   "outputs": [
    {
     "data": {
      "image/png": "[encoded data removed]",
      "text/plain": [
       "<Figure size 432x288 with 2 Axes>"
      ]
     },
     "metadata": {},
     "output_type": "display_data"
    }
   ],
   "source": [
    "import seaborn as sns\n",
    "\n",
    "k = 10 #number of variables for heatmap\n",
    "corrmat = df.corr()\n",
    "cols = corrmat.nlargest(k, 'winner')['winner'].index\n",
    "cm = np.corrcoef(df[cols].values.T)\n",
    "sns.set(font_scale=1.25)\n",
    "hm = sns.heatmap(cm, cbar=True, annot=True, square=True, fmt='.2f', annot_kws={'size': 10}, yticklabels=cols.values, xticklabels=cols.values)\n",
    "plt.show()"
   ]
  },
  {
   "cell_type": "code",
   "execution_count": 5,
   "metadata": {},
   "outputs": [
    {
     "data": {
      "text/html": [
       "<div>\n",
       "<style scoped>\n",
       "    .dataframe tbody tr th:only-of-type {\n",
       "        vertical-align: middle;\n",
       "    }\n",
       "\n",
       "    .dataframe tbody tr th {\n",
       "        vertical-align: top;\n",
       "    }\n",
       "\n",
       "    .dataframe thead th {\n",
       "        text-align: right;\n",
       "    }\n",
       "</style>\n",
       "<table border=\"1\" class=\"dataframe\">\n",
       "  <thead>\n",
       "    <tr style=\"text-align: right;\">\n",
       "      <th></th>\n",
       "      <th>Winner</th>\n",
       "      <th>title_bout</th>\n",
       "      <th>no_of_rounds</th>\n",
       "      <th>B_current_lose_streak</th>\n",
       "      <th>B_current_win_streak</th>\n",
       "      <th>B_draw</th>\n",
       "      <th>B_avg_BODY_att</th>\n",
       "      <th>B_avg_BODY_landed</th>\n",
       "      <th>B_avg_CLINCH_att</th>\n",
       "      <th>B_avg_CLINCH_landed</th>\n",
       "      <th>...</th>\n",
       "      <th>B_Stance_OpenStance</th>\n",
       "      <th>B_Stance_Orthodox</th>\n",
       "      <th>B_Stance_Sideways</th>\n",
       "      <th>B_Stance_Southpaw</th>\n",
       "      <th>B_Stance_Switch</th>\n",
       "      <th>R_Stance_OpenStance</th>\n",
       "      <th>R_Stance_Orthodox</th>\n",
       "      <th>R_Stance_Sideways</th>\n",
       "      <th>R_Stance_Southpaw</th>\n",
       "      <th>R_Stance_Switch</th>\n",
       "    </tr>\n",
       "  </thead>\n",
       "  <tbody>\n",
       "    <tr>\n",
       "      <td>0</td>\n",
       "      <td>Red</td>\n",
       "      <td>True</td>\n",
       "      <td>5</td>\n",
       "      <td>0.0</td>\n",
       "      <td>1.0</td>\n",
       "      <td>0.0</td>\n",
       "      <td>18.250000</td>\n",
       "      <td>11.416667</td>\n",
       "      <td>8.083333</td>\n",
       "      <td>5.250000</td>\n",
       "      <td>...</td>\n",
       "      <td>0</td>\n",
       "      <td>1</td>\n",
       "      <td>0</td>\n",
       "      <td>0</td>\n",
       "      <td>0</td>\n",
       "      <td>0</td>\n",
       "      <td>1</td>\n",
       "      <td>0</td>\n",
       "      <td>0</td>\n",
       "      <td>0</td>\n",
       "    </tr>\n",
       "    <tr>\n",
       "      <td>1</td>\n",
       "      <td>Red</td>\n",
       "      <td>False</td>\n",
       "      <td>3</td>\n",
       "      <td>0.0</td>\n",
       "      <td>1.0</td>\n",
       "      <td>0.0</td>\n",
       "      <td>5.000000</td>\n",
       "      <td>0.000000</td>\n",
       "      <td>9.000000</td>\n",
       "      <td>8.000000</td>\n",
       "      <td>...</td>\n",
       "      <td>0</td>\n",
       "      <td>1</td>\n",
       "      <td>0</td>\n",
       "      <td>0</td>\n",
       "      <td>0</td>\n",
       "      <td>0</td>\n",
       "      <td>1</td>\n",
       "      <td>0</td>\n",
       "      <td>0</td>\n",
       "      <td>0</td>\n",
       "    </tr>\n",
       "    <tr>\n",
       "      <td>2</td>\n",
       "      <td>Red</td>\n",
       "      <td>False</td>\n",
       "      <td>3</td>\n",
       "      <td>0.0</td>\n",
       "      <td>1.0</td>\n",
       "      <td>0.0</td>\n",
       "      <td>6.000000</td>\n",
       "      <td>2.625000</td>\n",
       "      <td>5.000000</td>\n",
       "      <td>2.125000</td>\n",
       "      <td>...</td>\n",
       "      <td>0</td>\n",
       "      <td>1</td>\n",
       "      <td>0</td>\n",
       "      <td>0</td>\n",
       "      <td>0</td>\n",
       "      <td>0</td>\n",
       "      <td>0</td>\n",
       "      <td>0</td>\n",
       "      <td>1</td>\n",
       "      <td>0</td>\n",
       "    </tr>\n",
       "    <tr>\n",
       "      <td>3</td>\n",
       "      <td>Blue</td>\n",
       "      <td>False</td>\n",
       "      <td>3</td>\n",
       "      <td>1.0</td>\n",
       "      <td>0.0</td>\n",
       "      <td>0.0</td>\n",
       "      <td>15.000000</td>\n",
       "      <td>7.000000</td>\n",
       "      <td>9.000000</td>\n",
       "      <td>7.000000</td>\n",
       "      <td>...</td>\n",
       "      <td>0</td>\n",
       "      <td>1</td>\n",
       "      <td>0</td>\n",
       "      <td>0</td>\n",
       "      <td>0</td>\n",
       "      <td>0</td>\n",
       "      <td>0</td>\n",
       "      <td>0</td>\n",
       "      <td>1</td>\n",
       "      <td>0</td>\n",
       "    </tr>\n",
       "    <tr>\n",
       "      <td>4</td>\n",
       "      <td>Blue</td>\n",
       "      <td>False</td>\n",
       "      <td>3</td>\n",
       "      <td>0.0</td>\n",
       "      <td>1.0</td>\n",
       "      <td>0.0</td>\n",
       "      <td>10.454545</td>\n",
       "      <td>7.363636</td>\n",
       "      <td>15.272727</td>\n",
       "      <td>11.636364</td>\n",
       "      <td>...</td>\n",
       "      <td>0</td>\n",
       "      <td>0</td>\n",
       "      <td>0</td>\n",
       "      <td>1</td>\n",
       "      <td>0</td>\n",
       "      <td>0</td>\n",
       "      <td>1</td>\n",
       "      <td>0</td>\n",
       "      <td>0</td>\n",
       "      <td>0</td>\n",
       "    </tr>\n",
       "  </tbody>\n",
       "</table>\n",
       "<p>5 rows × 161 columns</p>\n",
       "</div>"
      ],
      "text/plain": [
       "  Winner  title_bout  no_of_rounds  B_current_lose_streak  \\\n",
       "0    Red        True             5                    0.0   \n",
       "1    Red       False             3                    0.0   \n",
       "2    Red       False             3                    0.0   \n",
       "3   Blue       False             3                    1.0   \n",
       "4   Blue       False             3                    0.0   \n",
       "\n",
       "   B_current_win_streak  B_draw  B_avg_BODY_att  B_avg_BODY_landed  \\\n",
       "0                   1.0     0.0       18.250000          11.416667   \n",
       "1                   1.0     0.0        5.000000           0.000000   \n",
       "2                   1.0     0.0        6.000000           2.625000   \n",
       "3                   0.0     0.0       15.000000           7.000000   \n",
       "4                   1.0     0.0       10.454545           7.363636   \n",
       "\n",
       "   B_avg_CLINCH_att  B_avg_CLINCH_landed  ...  B_Stance_OpenStance  \\\n",
       "0          8.083333             5.250000  ...                    0   \n",
       "1          9.000000             8.000000  ...                    0   \n",
       "2          5.000000             2.125000  ...                    0   \n",
       "3          9.000000             7.000000  ...                    0   \n",
       "4         15.272727            11.636364  ...                    0   \n",
       "\n",
       "   B_Stance_Orthodox  B_Stance_Sideways  B_Stance_Southpaw  B_Stance_Switch  \\\n",
       "0                  1                  0                  0                0   \n",
       "1                  1                  0                  0                0   \n",
       "2                  1                  0                  0                0   \n",
       "3                  1                  0                  0                0   \n",
       "4                  0                  0                  1                0   \n",
       "\n",
       "   R_Stance_OpenStance  R_Stance_Orthodox  R_Stance_Sideways  \\\n",
       "0                    0                  1                  0   \n",
       "1                    0                  1                  0   \n",
       "2                    0                  0                  0   \n",
       "3                    0                  0                  0   \n",
       "4                    0                  1                  0   \n",
       "\n",
       "   R_Stance_Southpaw  R_Stance_Switch  \n",
       "0                  0                0  \n",
       "1                  0                0  \n",
       "2                  1                0  \n",
       "3                  1                0  \n",
       "4                  0                0  \n",
       "\n",
       "[5 rows x 161 columns]"
      ]
     },
     "execution_count": 5,
     "metadata": {},
     "output_type": "execute_result"
    }
   ],
   "source": [
    "# scrapped data again combined fight, bouts, and kaggle datasets. randomly changed winners to red or blue in reference to corners. Converted % to fractions\n",
    "\n",
    "df2 = pd.read_csv('data/new_preprocessed_data.csv')\n",
    "df2.head()"
   ]
  },
  {
   "cell_type": "code",
   "execution_count": 6,
   "metadata": {},
   "outputs": [],
   "source": [
    "df_num = df2.select_dtypes(include=[np.float, np.int])"
   ]
  },
  {
   "cell_type": "markdown",
   "metadata": {},
   "source": [
    "# Create a Train Test Split"
   ]
  },
  {
   "cell_type": "code",
   "execution_count": 7,
   "metadata": {},
   "outputs": [],
   "source": [
    "scaler = StandardScaler()\n",
    "\n",
    "df2[list(df_num.columns)] = scaler.fit_transform(df2[list(df_num.columns)])"
   ]
  },
  {
   "cell_type": "code",
   "execution_count": 8,
   "metadata": {},
   "outputs": [],
   "source": [
    "y = df2['Winner']\n",
    "X = df2.drop(columns = 'Winner')\n",
    "\n",
    "X_train, X_test, y_train, y_test = train_test_split(X, y, test_size=0.05, random_state=43)"
   ]
  },
  {
   "cell_type": "markdown",
   "metadata": {},
   "source": [
    "# Pre-processing -  RandomForest"
   ]
  },
  {
   "cell_type": "code",
   "execution_count": 9,
   "metadata": {},
   "outputs": [],
   "source": [
    "model = RandomForestClassifier(n_estimators=100, oob_score=True, random_state=43)"
   ]
  },
  {
   "cell_type": "code",
   "execution_count": 10,
   "metadata": {},
   "outputs": [
    {
     "data": {
      "text/plain": [
       "RandomForestClassifier(bootstrap=True, class_weight=None, criterion='gini',\n",
       "                       max_depth=None, max_features='auto', max_leaf_nodes=None,\n",
       "                       min_impurity_decrease=0.0, min_impurity_split=None,\n",
       "                       min_samples_leaf=1, min_samples_split=2,\n",
       "                       min_weight_fraction_leaf=0.0, n_estimators=100,\n",
       "                       n_jobs=None, oob_score=True, random_state=43, verbose=0,\n",
       "                       warm_start=False)"
      ]
     },
     "execution_count": 10,
     "metadata": {},
     "output_type": "execute_result"
    }
   ],
   "source": [
    "model.fit(X_train, y_train)"
   ]
  },
  {
   "cell_type": "markdown",
   "metadata": {},
   "source": [
    "# Train the Model"
   ]
  },
  {
   "cell_type": "code",
   "execution_count": 11,
   "metadata": {},
   "outputs": [
    {
     "data": {
      "text/plain": [
       "0.6843076923076923"
      ]
     },
     "execution_count": 11,
     "metadata": {},
     "output_type": "execute_result"
    }
   ],
   "source": [
    "model.oob_score_"
   ]
  },
  {
   "cell_type": "code",
   "execution_count": 12,
   "metadata": {},
   "outputs": [],
   "source": [
    "y_preds = model.predict(X_test)"
   ]
  },
  {
   "cell_type": "code",
   "execution_count": 13,
   "metadata": {},
   "outputs": [
    {
     "data": {
      "text/plain": [
       "0.7354085603112841"
      ]
     },
     "execution_count": 13,
     "metadata": {},
     "output_type": "execute_result"
    }
   ],
   "source": [
    "accuracy_score(y_test, y_preds)"
   ]
  },
  {
   "cell_type": "code",
   "execution_count": 14,
   "metadata": {},
   "outputs": [],
   "source": [
    "feat_imps = {}\n",
    "for i, imp in enumerate(model.feature_importances_):\n",
    "    feat_imps[X_train.columns[i]] = imp"
   ]
  },
  {
   "cell_type": "code",
   "execution_count": 15,
   "metadata": {},
   "outputs": [
    {
     "data": {
      "text/plain": [
       "[('R_age', 0.021375808867572243),\n",
       " ('B_age', 0.016982579437567626),\n",
       " ('B_Reach_cms', 0.01569425293168177),\n",
       " ('R_avg_opp_HEAD_landed', 0.014066353263128674),\n",
       " ('R_avg_opp_DISTANCE_landed', 0.013759015250146259),\n",
       " ('R_Reach_cms', 0.013490163235022296),\n",
       " ('R_Height_cms', 0.012936090572631596),\n",
       " ('R_avg_opp_SIG_STR_pct', 0.012796539477316599),\n",
       " ('B_Height_cms', 0.012641668625682619),\n",
       " ('R_avg_opp_SIG_STR_landed', 0.012574830517968582),\n",
       " ('B_avg_DISTANCE_att', 0.012079982194208916),\n",
       " ('R_avg_opp_HEAD_att', 0.011337009608781975),\n",
       " ('R_avg_TOTAL_STR_landed', 0.010816314666604331),\n",
       " ('R_avg_opp_DISTANCE_att', 0.010550358063070753),\n",
       " ('B_Weight_lbs', 0.01054913720253092),\n",
       " ('R_Weight_lbs', 0.010434911458753252),\n",
       " ('R_avg_opp_SIG_STR_att', 0.010157309239129735),\n",
       " ('R_avg_opp_TOTAL_STR_landed', 0.01007367910473916),\n",
       " ('R_avg_opp_TOTAL_STR_att', 0.010058440848886041),\n",
       " ('R_avg_opp_BODY_att', 0.01000244439111591),\n",
       " ('R_avg_BODY_att', 0.009903017480128031),\n",
       " ('R_avg_SIG_STR_pct', 0.009876775831956678),\n",
       " ('B_avg_HEAD_att', 0.009776965087491235),\n",
       " ('R_avg_opp_GROUND_landed', 0.009719424489319057),\n",
       " ('R_avg_opp_BODY_landed', 0.009671768461732221),\n",
       " ('B_avg_DISTANCE_landed', 0.009666106728765804),\n",
       " ('R_avg_DISTANCE_landed', 0.00951179226230034),\n",
       " ('B_avg_SIG_STR_att', 0.00950976765821189),\n",
       " ('R_avg_GROUND_att', 0.009244163449472667),\n",
       " ('R_avg_TD_landed', 0.009062467185233925),\n",
       " ('R_total_time_fought(seconds)', 0.0090510599569437),\n",
       " ('R_avg_TD_pct', 0.009026136992650438),\n",
       " ('R_avg_opp_LEG_att', 0.009014985012132454),\n",
       " ('R_avg_SIG_STR_landed', 0.00888065089898298),\n",
       " ('R_avg_opp_TD_pct', 0.008872508326225638),\n",
       " ('R_avg_BODY_landed', 0.008854749920236146),\n",
       " ('B_avg_SIG_STR_landed', 0.008833970333450819),\n",
       " ('B_avg_opp_DISTANCE_att', 0.008751663209165131),\n",
       " ('B_avg_BODY_att', 0.008729245391738963),\n",
       " ('R_avg_GROUND_landed', 0.008666146869398995),\n",
       " ('R_avg_HEAD_att', 0.008652412258694722),\n",
       " ('R_avg_HEAD_landed', 0.00860385323690087),\n",
       " ('R_avg_opp_CLINCH_att', 0.008592769896103409),\n",
       " ('R_avg_LEG_att', 0.008542064869697108),\n",
       " ('R_avg_SIG_STR_att', 0.008539406557326474),\n",
       " ('B_avg_opp_DISTANCE_landed', 0.008503614517179577),\n",
       " ('R_avg_opp_GROUND_att', 0.008454572267528862),\n",
       " ('R_avg_DISTANCE_att', 0.008444241447274722),\n",
       " ('R_avg_LEG_landed', 0.008397536345381002),\n",
       " ('R_avg_TOTAL_STR_att', 0.008393218504313075),\n",
       " ('R_avg_opp_LEG_landed', 0.008307917266680395),\n",
       " ('R_avg_opp_PASS', 0.00830308492361834),\n",
       " ('R_losses', 0.008241993829809387),\n",
       " ('B_avg_HEAD_landed', 0.008186092649222817),\n",
       " ('B_avg_SIG_STR_pct', 0.008153332373245347),\n",
       " ('R_avg_CLINCH_att', 0.00813988106645699),\n",
       " ('R_avg_opp_CLINCH_landed', 0.008030914321915047),\n",
       " ('B_avg_TD_att', 0.008012469350057897),\n",
       " ('B_avg_LEG_att', 0.007991105085243248),\n",
       " ('R_avg_PASS', 0.007911280341302418),\n",
       " ('B_avg_opp_SIG_STR_pct', 0.007909522487475494),\n",
       " ('R_avg_TD_att', 0.007830210118948267),\n",
       " ('B_avg_opp_LEG_att', 0.007775614327150825),\n",
       " ('R_avg_opp_KD', 0.007630923055216811),\n",
       " ('R_total_rounds_fought', 0.007575801792072008),\n",
       " ('R_avg_opp_TD_landed', 0.007538486949742258),\n",
       " ('B_avg_opp_SIG_STR_att', 0.007500047727072071),\n",
       " ('B_avg_TOTAL_STR_att', 0.0074902758210962424),\n",
       " ('B_avg_opp_HEAD_landed', 0.007485992662276981),\n",
       " ('R_avg_CLINCH_landed', 0.0074715478932669156),\n",
       " ('B_avg_TOTAL_STR_landed', 0.007414474763685238),\n",
       " ('B_avg_opp_TOTAL_STR_landed', 0.0073645905752185254),\n",
       " ('R_avg_opp_TD_att', 0.007292030290992118),\n",
       " ('B_avg_CLINCH_att', 0.007227483333443674),\n",
       " ('B_avg_opp_TOTAL_STR_att', 0.007203284920596124),\n",
       " ('B_avg_LEG_landed', 0.0070149758405218055),\n",
       " ('B_total_time_fought(seconds)', 0.007014152040043477),\n",
       " ('B_avg_opp_BODY_att', 0.006941111180522002),\n",
       " ('B_avg_opp_CLINCH_att', 0.006931262839670477),\n",
       " ('B_avg_BODY_landed', 0.0068822541298947755),\n",
       " ('B_avg_TD_landed', 0.006865024989907431),\n",
       " ('B_avg_opp_CLINCH_landed', 0.006839807342923364),\n",
       " ('B_avg_opp_LEG_landed', 0.00676680728425132),\n",
       " ('B_avg_opp_HEAD_att', 0.006766381807997899),\n",
       " ('B_avg_GROUND_landed', 0.006707315525816875),\n",
       " ('R_avg_SUB_ATT', 0.006523012595163009),\n",
       " ('B_avg_GROUND_att', 0.006458143592274834),\n",
       " ('R_avg_opp_SUB_ATT', 0.006450081019532639),\n",
       " ('B_avg_opp_GROUND_att', 0.006443195270717945),\n",
       " ('B_avg_CLINCH_landed', 0.006349725095608719),\n",
       " ('B_avg_opp_TD_att', 0.0063183945076215305),\n",
       " ('B_avg_opp_TD_pct', 0.006170780110750829),\n",
       " ('B_avg_opp_SIG_STR_landed', 0.006138966726615613),\n",
       " ('B_avg_opp_BODY_landed', 0.005930339509138449),\n",
       " ('R_wins', 0.005917262577526426),\n",
       " ('B_avg_opp_GROUND_landed', 0.00585802692053245),\n",
       " ('B_avg_TD_pct', 0.005727412334533886),\n",
       " ('B_avg_opp_PASS', 0.005623553212738346),\n",
       " ('B_avg_opp_TD_landed', 0.0055947177186238956),\n",
       " ('R_avg_KD', 0.005481410165061992),\n",
       " ('B_avg_PASS', 0.005444006987442794),\n",
       " ('B_total_rounds_fought', 0.0051789798476243),\n",
       " ('R_avg_opp_REV', 0.005034791622837473),\n",
       " ('R_avg_REV', 0.004989853954861495),\n",
       " ('B_avg_opp_SUB_ATT', 0.004502859435398777),\n",
       " ('B_avg_KD', 0.004181544224217318),\n",
       " ('B_wins', 0.003979424611918314),\n",
       " ('B_avg_SUB_ATT', 0.0038762833655250784),\n",
       " ('R_longest_win_streak', 0.003790354386580476),\n",
       " ('B_avg_opp_KD', 0.0035297329711005713),\n",
       " ('no_of_rounds', 0.0034919737108700354),\n",
       " ('B_losses', 0.0034849192289323296),\n",
       " ('R_win_by_KO/TKO', 0.0033725750386912005),\n",
       " ('R_current_win_streak', 0.0033539760607708335),\n",
       " ('R_win_by_Decision_Split', 0.0031029729590086133),\n",
       " ('B_avg_opp_REV', 0.00307739207672009),\n",
       " ('B_win_by_Decision_Unanimous', 0.003029540419054458),\n",
       " ('R_win_by_Submission', 0.0029019789622068684),\n",
       " ('B_avg_REV', 0.0028142903574127375),\n",
       " ('B_current_win_streak', 0.002693615847526209),\n",
       " ('B_longest_win_streak', 0.002688193419569764),\n",
       " ('R_win_by_Decision_Unanimous', 0.002556763761888953),\n",
       " ('B_Stance_Orthodox', 0.0025280162907205194),\n",
       " ('R_current_lose_streak', 0.002513134249076712),\n",
       " ('B_Stance_Southpaw', 0.002418126637090733),\n",
       " ('B_win_by_Submission', 0.0022434661326977794),\n",
       " ('weight_class_Featherweight', 0.002220488316078818),\n",
       " ('B_win_by_KO/TKO', 0.0021395011320851144),\n",
       " ('weight_class_Lightweight', 0.0020332788082827844),\n",
       " ('R_Stance_Orthodox', 0.0019448566257990309),\n",
       " ('weight_class_Bantamweight', 0.0019169620215067045),\n",
       " ('weight_class_Welterweight', 0.0019131597590197659),\n",
       " ('R_Stance_Southpaw', 0.001892020525227014),\n",
       " ('R_total_title_bouts', 0.0018883558123359285),\n",
       " ('B_current_lose_streak', 0.001881038733727191),\n",
       " ('title_bout', 0.0017459944924907594),\n",
       " ('weight_class_Middleweight', 0.001563482791171657),\n",
       " ('weight_class_LightHeavyweight', 0.0014114787121205393),\n",
       " ('B_win_by_Decision_Split', 0.0013911971317069809),\n",
       " ('R_Stance_Switch', 0.0011104132286897598),\n",
       " ('B_Stance_Switch', 0.0010513773016426495),\n",
       " ('B_total_title_bouts', 0.001027144523782303),\n",
       " ('weight_class_Flyweight', 0.0009627987896161799),\n",
       " ('weight_class_Women_Bantamweight', 0.0008206777428711802),\n",
       " ('weight_class_Heavyweight', 0.0007918191813262852),\n",
       " ('weight_class_Women_Flyweight', 0.0006359266467110869),\n",
       " ('R_win_by_TKO_Doctor_Stoppage', 0.0005698776776243349),\n",
       " ('weight_class_Women_Featherweight', 0.0005622750865872742),\n",
       " ('weight_class_Women_Strawweight', 0.0005384265334931494),\n",
       " ('R_win_by_Decision_Majority', 0.00048803157030249467),\n",
       " ('B_win_by_TKO_Doctor_Stoppage', 0.00033411836035322957),\n",
       " ('weight_class_OpenWeight', 0.00018203916686766926),\n",
       " ('B_win_by_Decision_Majority', 0.00015590303300944358),\n",
       " ('weight_class_CatchWeight', 0.00011343878923747928),\n",
       " ('B_Stance_OpenStance', 5.706412640252981e-05),\n",
       " ('R_Stance_OpenStance', 5.166074824725514e-05),\n",
       " ('B_Stance_Sideways', 9.405667453673528e-09),\n",
       " ('B_draw', 0.0),\n",
       " ('R_draw', 0.0),\n",
       " ('R_Stance_Sideways', 0.0)]"
      ]
     },
     "execution_count": 15,
     "metadata": {},
     "output_type": "execute_result"
    }
   ],
   "source": [
    "sorted_imp_feats = (sorted(feat_imps.items(), key = lambda x: x[1], reverse=True))\n",
    "sorted_imp_feats"
   ]
  },
  {
   "cell_type": "code",
   "execution_count": 16,
   "metadata": {},
   "outputs": [
    {
     "data": {
      "text/plain": [
       "Red     3327\n",
       "Blue    1548\n",
       "Name: Winner, dtype: int64"
      ]
     },
     "execution_count": 16,
     "metadata": {},
     "output_type": "execute_result"
    }
   ],
   "source": [
    "y_train.value_counts()"
   ]
  },
  {
   "cell_type": "code",
   "execution_count": 17,
   "metadata": {},
   "outputs": [
    {
     "data": {
      "text/plain": [
       "<matplotlib.axes._subplots.AxesSubplot at 0x12ab3fdf0c8>"
      ]
     },
     "execution_count": 17,
     "metadata": {},
     "output_type": "execute_result"
    },
    {
     "data": {
      "image/png": "[encoded data removed]",
      "text/plain": [
       "<Figure size 432x288 with 2 Axes>"
      ]
     },
     "metadata": {
      "needs_background": "light"
     },
     "output_type": "display_data"
    }
   ],
   "source": [
    "cm = confusion_matrix(y_test, y_preds)\n",
    "classes = unique_labels(y_test, y_preds)\n",
    "\n",
    "fig, ax = plt.subplots()\n",
    "im = ax.imshow(cm, interpolation='nearest', cmap=plt.cm.Blues)\n",
    "ax.figure.colorbar(im, ax=ax)\n",
    "# We want to show all ticks...\n",
    "ax.set(xticks=np.arange(cm.shape[1]),\n",
    "       yticks=np.arange(cm.shape[0]),\n",
    "       # ... and label them with the respective list entries\n",
    "       xticklabels=classes, yticklabels=classes,\n",
    "       title=' UFC Matrix',\n",
    "       ylabel='True label',\n",
    "       xlabel='Predicted label')\n",
    "# Loop over data dimensions and create text annotations.\n",
    "fmt = 'd'\n",
    "thresh = cm.max() / 2.\n",
    "for i in range(cm.shape[0]):\n",
    "    for j in range(cm.shape[1]):\n",
    "        ax.text(j, i, format(cm[i, j], fmt),\n",
    "                ha=\"center\", va=\"center\",\n",
    "                color=\"white\" if cm[i, j] > thresh else \"black\")\n",
    "fig.tight_layout()\n",
    "ax"
   ]
  },
  {
   "cell_type": "markdown",
   "metadata": {},
   "source": [
    "# Hyperparameter Tuning\n",
    "\n",
    "Use `GridSearchCV` to tune the model's parameters"
   ]
  },
  {
   "cell_type": "code",
   "execution_count": 19,
   "metadata": {},
   "outputs": [
    {
     "name": "stdout",
     "output_type": "stream",
     "text": [
      "{'max_features': 'sqrt', 'n_estimators': 700}\n"
     ]
    }
   ],
   "source": [
    "# X_all = df2.drop(['Winner'], axis=1)\n",
    "# y_all = df2['Winner']\n",
    "# X_train, X_test, Y_train, Y_test = train_test_split(X_all, y_all, test_size=0.2, random_state=23)\n",
    "# rfc = RandomForestClassifier(n_jobs=-1,max_features= 'sqrt' ,n_estimators=50, oob_score = True, max_depth=None) \n",
    "# param_grid = { \n",
    "#    'n_estimators': [200,700],\n",
    "#    'max_features': ['auto', 'sqrt', 'log2']\n",
    "# }\n",
    "\n",
    "# CV_rfc = GridSearchCV(estimator=rfc, param_grid=param_grid, cv= 5)\n",
    "# CV_rfc.fit(X_train, Y_train)\n",
    "# print(CV_rfc.best_params_)"
   ]
  },
  {
   "cell_type": "code",
   "execution_count": null,
   "metadata": {},
   "outputs": [],
   "source": []
  }
 ],
 "metadata": {
  "kernelspec": {
   "display_name": "Python 3",
   "language": "python",
   "name": "python3"
  },
  "language_info": {
   "codemirror_mode": {
    "name": "ipython",
    "version": 3
   },
   "file_extension": ".py",
   "mimetype": "text/x-python",
   "name": "python",
   "nbconvert_exporter": "python",
   "pygments_lexer": "ipython3",
   "version": "3.7.4"
  }
 },
 "nbformat": 4,
 "nbformat_minor": 2
}
